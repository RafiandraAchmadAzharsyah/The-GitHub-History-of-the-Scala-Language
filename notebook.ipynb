{
  "cells": [
    {
      "source": [
        "## 1. Scala's real-world project repository data\n",
        "\n",
        "<p>The dataset we will use, which has been previously mined and extracted from GitHub, is comprised of three files:</p>\n",
        "<ol>\n",
        "<li><code>pulls_2011-2013.csv</code> contains the basic information about the pull requests, and spans from the end of 2011 up to (but not including) 2014.</li>\n",
        "<li><code>pulls_2014-2018.csv</code> contains identical information, and spans from 2014 up to 2018.</li>\n",
        "<li><code>pull_files.csv</code> contains the files that were modified by each pull request.</li>\n",
        "</ol>"
      ],
      "metadata": {
        "dc": {
          "key": "5"
        },
        "run_control": {
          "frozen": true
        },
        "tags": [
          "context"
        ],
        "id": "8535ab5f-eb87-4fae-8805-b86c61e48863"
      },
      "id": "8535ab5f-eb87-4fae-8805-b86c61e48863",
      "cell_type": "markdown"
    },
    {
      "source": [
        "# Importing pandas\n",
        "import pandas as pd\n",
        "\n",
        "# Loading in the data\n",
        "pulls_one = pd.read_csv('datasets/pulls_2011-2013.csv') \n",
        "pulls_two = pd.read_csv('datasets/pulls_2014-2018.csv')\n",
        "pull_files = pd.read_csv('datasets/pull_files.csv')"
      ],
      "metadata": {
        "dc": {
          "key": "5"
        },
        "tags": [
          "sample_code"
        ],
        "trusted": true,
        "id": "f642704e-1545-496e-8695-670482085d5d"
      },
      "id": "f642704e-1545-496e-8695-670482085d5d",
      "cell_type": "code",
      "execution_count": null,
      "outputs": []
    },
    {
      "source": [
        "## 2. Preparing and cleaning the data\n",
        "<p>First, we will need to combine the data from the two separate pull DataFrames. </p>\n",
        "<p>Next, the raw data extracted from GitHub contains dates in the ISO8601 format. However, <code>pandas</code> imports them as regular strings. To make our analysis easier, we need to convert the strings into Python's <code>DateTime</code> objects. <code>DateTime</code> objects have the important property that they can be compared and sorted.</p>\n",
        "<p>The pull request times are all in UTC (also known as Coordinated Universal Time). The commit times, however, are in the local time of the author with time zone information (number of hours difference from UTC). To make comparisons easy, we should convert all times to UTC.</p>"
      ],
      "metadata": {
        "dc": {
          "key": "12"
        },
        "run_control": {
          "frozen": true
        },
        "tags": [
          "context"
        ],
        "id": "393cea96-26a9-4485-8e5d-3695711e1f8a"
      },
      "id": "393cea96-26a9-4485-8e5d-3695711e1f8a",
      "cell_type": "markdown"
    },
    {
      "source": [
        "# Append pulls_one to pulls_two\n",
        "pulls = pulls_two.append(pulls_one, ignore_index=True)\n",
        "\n",
        "# Convert the date for the pulls object\n",
        "pulls['date'] = pd.to_datetime(pulls['date'],utc=True)"
      ],
      "metadata": {
        "dc": {
          "key": "12"
        },
        "tags": [
          "sample_code"
        ],
        "trusted": true,
        "id": "bb55a4a3-bb94-423c-9db1-42ff3f781b33"
      },
      "id": "bb55a4a3-bb94-423c-9db1-42ff3f781b33",
      "cell_type": "code",
      "execution_count": null,
      "outputs": []
    },
    {
      "source": [
        "## 3. Merging the DataFrames\n",
        "<p>The data extracted comes in two separate files. Merging the two DataFrames will make it easier for us to analyze the data in the future tasks.</p>"
      ],
      "metadata": {
        "dc": {
          "key": "19"
        },
        "run_control": {
          "frozen": true
        },
        "tags": [
          "context"
        ],
        "id": "f784ffe0-0f10-4841-b3f6-c497e748956d"
      },
      "id": "f784ffe0-0f10-4841-b3f6-c497e748956d",
      "cell_type": "markdown"
    },
    {
      "source": [
        "# Merge the two DataFrames\n",
        "data = pulls.merge(pull_files, on='pid')"
      ],
      "metadata": {
        "dc": {
          "key": "19"
        },
        "tags": [
          "sample_code"
        ],
        "trusted": true,
        "id": "9756c2c0-6141-4340-9ac4-63403fc9935b"
      },
      "id": "9756c2c0-6141-4340-9ac4-63403fc9935b",
      "cell_type": "code",
      "execution_count": null,
      "outputs": []
    },
    {
      "source": [
        "## 4. Is the project still actively maintained?\n",
        "<p>The activity in an open source project is not very consistent. Some projects might be active for many years after the initial release, while others can slowly taper out into oblivion. Before committing to contributing to a project, it is important to understand the state of the project. Is development going steadily, or is there a drop? Has the project been abandoned altogether?</p>\n",
        "<p>The data used in this project was collected in January of 2018. We are interested in the evolution of the number of contributions up to that date.</p>\n",
        "<p>For Scala, we will do this by plotting a chart of the project's activity. We will calculate the number of pull requests submitted each (calendar) month during the project's lifetime. We will then plot these numbers to see the trend of contributions.</p>\n",
        "<ul>\n",
        "<li><p>A helpful reminder of how to access various components of a date can be found in <a href=\"https://campus.datacamp.com/courses/data-manipulation-with-pandas/slicing-and-indexing?ex=12\">this exercise of Data Manipulation with pandas</a></p></li>\n",
        "<li><p>Additionally, recall that you can group by multiple variables by passing a list to <code>.groupby()</code>. This video from <a href=\"https://campus.datacamp.com/courses/data-manipulation-with-pandas/aggregating-dataframes?ex=9\">Data Manipulation with pandas</a> should help!</p></li>\n",
        "</ul>"
      ],
      "metadata": {
        "dc": {
          "key": "26"
        },
        "run_control": {
          "frozen": true
        },
        "tags": [
          "context"
        ],
        "id": "1658d1a1-2e6c-4259-9310-21de0bbada10"
      },
      "id": "1658d1a1-2e6c-4259-9310-21de0bbada10",
      "cell_type": "markdown"
    },
    {
      "source": [
        "%matplotlib inline\n",
        "\n",
        "# Create a column that will store the month\n",
        "data['month'] = data['date'].dt.month\n",
        "\n",
        "# Create a column that will store the year\n",
        "data['year'] = data['date'].dt.year\n",
        "\n",
        "# Group by the month and year and count the pull requests\n",
        "counts = data.groupby(['year','month'])['pid'].count()\n",
        "\n",
        "# Plot the results\n",
        "counts.plot(kind='bar', figsize = (12,4))"
      ],
      "metadata": {
        "dc": {
          "key": "26"
        },
        "tags": [
          "sample_code"
        ],
        "trusted": true,
        "id": "fb9ca84c-fec4-4d53-a49e-e3d70003b88f",
        "outputId": "2934989c-bc51-45b0-f962-7103cca0bbb4"
      },
      "id": "fb9ca84c-fec4-4d53-a49e-e3d70003b88f",
      "cell_type": "code",
      "execution_count": null,
      "outputs": [
        {
          "output_type": "execute_result",
          "execution_count": 8,
          "data": {
            "text/plain": "<AxesSubplot:xlabel='year,month'>"
          },
          "metadata": {}
        },
        {
          "output_type": "display_data",
          "data": {
            "text/plain": "<Figure size 864x288 with 1 Axes>",
            "image/png": "[encoded data removed]"
          },
          "metadata": {
            "needs_background": "light"
          }
        }
      ]
    },
    {
      "source": [
        "## 5. Is there camaraderie in the project?\n",
        "<p>The organizational structure varies from one project to another, and it can influence your success as a contributor. A project that has a very small community might not be the best one to start working on. The small community might indicate a high barrier of entry. This can be caused by several factors, including a community that is reluctant to accept pull requests from \"outsiders,\" that the code base is hard to work with, etc. However, a large community can serve as an indicator that the project is regularly accepting pull requests from new contributors. Such a project would be a good place to start.</p>\n",
        "<p>In order to evaluate the dynamics of the community, we will plot a histogram of the number of pull requests submitted by each user. A distribution that shows that there are few people that only contribute a small number of pull requests can be used as in indicator that the project is not welcoming of new contributors. </p>"
      ],
      "metadata": {
        "dc": {
          "key": "33"
        },
        "run_control": {
          "frozen": true
        },
        "tags": [
          "context"
        ],
        "id": "69557c85-eb88-4330-8daf-0f66e4b8665f"
      },
      "id": "69557c85-eb88-4330-8daf-0f66e4b8665f",
      "cell_type": "markdown"
    },
    {
      "source": [
        "%matplotlib inline\n",
        "import matplotlib.pyplot as plt\n",
        "\n",
        "# Group by the submitter\n",
        "by_user = data.groupby('user')['pid'].agg('count')\n",
        "\n",
        "# Plot the histogram\n",
        "plt.hist(by_user)\n",
        "plt.show()"
      ],
      "metadata": {
        "dc": {
          "key": "33"
        },
        "tags": [
          "sample_code"
        ],
        "trusted": true,
        "id": "63a3f70e-315d-4be3-bbff-59a792a31c4b",
        "outputId": "99446b39-6a7a-4946-ae61-e45bd29c7b6f"
      },
      "id": "63a3f70e-315d-4be3-bbff-59a792a31c4b",
      "cell_type": "code",
      "execution_count": null,
      "outputs": [
        {
          "output_type": "display_data",
          "data": {
            "text/plain": "<Figure size 432x288 with 1 Axes>",
            "image/png": "[encoded data removed]"
          },
          "metadata": {
            "needs_background": "light"
          }
        }
      ]
    },
    {
      "source": [
        "## 6. What files were changed in the last ten pull requests?\n",
        "<p>Choosing the right place to make a contribution is as important as choosing the project to contribute to. Some parts of the code might be stable, some might be dead. Contributing there might not have the most impact. Therefore it is important to understand the parts of the system that have been recently changed. This allows us to pinpoint the \"hot\" areas of the code where most of the activity is happening. Focusing on those parts might not the most effective use of our times.</p>"
      ],
      "metadata": {
        "dc": {
          "key": "40"
        },
        "run_control": {
          "frozen": true
        },
        "tags": [
          "context"
        ],
        "id": "7d600680-f95d-4493-84da-0ac5b4d77cf2"
      },
      "id": "7d600680-f95d-4493-84da-0ac5b4d77cf2",
      "cell_type": "markdown"
    },
    {
      "source": [
        "# Identify the last 10 pull requests\n",
        "last_10 = pulls.sort_values(by='date').tail(10)\n",
        "\n",
        "# Join the two data sets\n",
        "joined_pr = pull_files.merge(last_10, on='pid')\n",
        "\n",
        "# Identify the unique files\n",
        "files = set(joined_pr['file'])\n",
        "\n",
        "# Print the results\n",
        "print(files)"
      ],
      "metadata": {
        "dc": {
          "key": "40"
        },
        "tags": [
          "sample_code"
        ],
        "trusted": true,
        "id": "429e0ab8-cd2a-45b1-b54b-5edd4b76982b",
        "outputId": "7486512a-fa60-4d39-d7df-96e1948f17a7"
      },
      "id": "429e0ab8-cd2a-45b1-b54b-5edd4b76982b",
      "cell_type": "code",
      "execution_count": null,
      "outputs": [
        {
          "output_type": "stream",
          "text": "{'src/compiler/scala/tools/nsc/backend/jvm/BCodeHelpers.scala', 'test/files/pos/t10686.scala', 'src/library/scala/Predef.scala', 'test/files/pos/t9291.scala', 'src/compiler/scala/tools/nsc/backend/jvm/analysis/BackendUtils.scala', 'src/compiler/scala/tools/nsc/profile/AsyncHelper.scala', 'src/compiler/scala/tools/nsc/typechecker/Contexts.scala', 'src/scalap/decoder.properties', 'test/files/neg/leibniz-liskov.scala', 'test/files/run/t8348/TableColumnImpl.java', 'src/compiler/scala/tools/nsc/symtab/classfile/ClassfileParser.scala', 'src/compiler/scala/tools/nsc/backend/jvm/PostProcessor.scala', 'test/files/neg/leibniz-liskov.check', 'src/scaladoc/scala/tools/nsc/doc/html/page/Entity.scala', 'test/files/pos/t10568/Impl.scala', 'test/files/pos/t5638/Usage.scala', 'LICENSE', 'test/files/pos/t5638/Among.java', 'test/files/run/t8348.check', 'test/files/pos/t10568/Converter.java', 'src/compiler/scala/reflect/reify/phases/Calculate.scala', 'doc/License.rtf', 'test/files/run/t8348/Test.scala', 'test/files/run/t8348/TableColumn.java', 'src/library/scala/util/Properties.scala', 'src/reflect/scala/reflect/internal/tpe/GlbLubs.scala', 'src/library/scala/concurrent/Lock.scala', 'src/compiler/scala/tools/nsc/profile/Profiler.scala', 'test/files/pos/parallel-classloader.scala', 'doc/LICENSE.md', 'project/VersionUtil.scala', 'test/files/pos/leibniz-liskov.scala', 'test/files/pos/leibniz_liskov.scala', 'src/reflect/scala/reflect/internal/pickling/ByteCodecs.scala'}\n",
          "name": "stdout"
        }
      ]
    },
    {
      "source": [
        "## 7. Who made the most pull requests to a given file?\n",
        "<p>When contributing to a project, we might need some guidance. We might find ourselves needing some information regarding the codebase. It is important direct any questions to the right person. Contributors to open source projects generally have other day jobs, so their time is limited. It is important to address our questions to the right people. One way to identify the right target for our inquiries is by using their contribution history.</p>\n",
        "<p>We identified <code>src/compiler/scala/reflect/reify/phases/Calculate.scala</code> as being recently changed. We are interested in the top 3 developers who changed that file. Those developers are the ones most likely to have the best understanding of the code.</p>"
      ],
      "metadata": {
        "dc": {
          "key": "47"
        },
        "run_control": {
          "frozen": true
        },
        "tags": [
          "context"
        ],
        "id": "8214d22a-533d-4128-ae5f-682059e9f529"
      },
      "id": "8214d22a-533d-4128-ae5f-682059e9f529",
      "cell_type": "markdown"
    },
    {
      "source": [
        "# This is the file we are interested in:\n",
        "file = 'src/compiler/scala/reflect/reify/phases/Calculate.scala'\n",
        "\n",
        "# Identify the commits that changed the file\n",
        "file_pr = data[data['file'] == file]\n",
        "\n",
        "# Count the number of changes made by each developer\n",
        "author_counts = file_pr.groupby('user').count()\n",
        "\n",
        "# Print the top 3 developers\n",
        "author_counts.nlargest(3, 'file')"
      ],
      "metadata": {
        "dc": {
          "key": "47"
        },
        "tags": [
          "sample_code"
        ],
        "trusted": true,
        "id": "c942ee4a-6a7b-43f9-ad02-0f8c6b99fcab",
        "outputId": "6c945874-3445-4e4d-b7e4-21b6a2279530"
      },
      "id": "c942ee4a-6a7b-43f9-ad02-0f8c6b99fcab",
      "cell_type": "code",
      "execution_count": null,
      "outputs": [
        {
          "output_type": "execute_result",
          "execution_count": 14,
          "data": {
            "text/plain": "          pid  date  file  month  year\nuser                                  \nxeno-by    11    11    11     11    11\nretronym    5     5     5      5     5\nsoc         4     4     4      4     4",
            "text/html": "<div>\n<style scoped>\n    .dataframe tbody tr th:only-of-type {\n        vertical-align: middle;\n    }\n\n    .dataframe tbody tr th {\n        vertical-align: top;\n    }\n\n    .dataframe thead th {\n        text-align: right;\n    }\n</style>\n<table border=\"1\" class=\"dataframe\">\n  <thead>\n    <tr style=\"text-align: right;\">\n      <th></th>\n      <th>pid</th>\n      <th>date</th>\n      <th>file</th>\n      <th>month</th>\n      <th>year</th>\n    </tr>\n    <tr>\n      <th>user</th>\n      <th></th>\n      <th></th>\n      <th></th>\n      <th></th>\n      <th></th>\n    </tr>\n  </thead>\n  <tbody>\n    <tr>\n      <th>xeno-by</th>\n      <td>11</td>\n      <td>11</td>\n      <td>11</td>\n      <td>11</td>\n      <td>11</td>\n    </tr>\n    <tr>\n      <th>retronym</th>\n      <td>5</td>\n      <td>5</td>\n      <td>5</td>\n      <td>5</td>\n      <td>5</td>\n    </tr>\n    <tr>\n      <th>soc</th>\n      <td>4</td>\n      <td>4</td>\n      <td>4</td>\n      <td>4</td>\n      <td>4</td>\n    </tr>\n  </tbody>\n</table>\n</div>"
          },
          "metadata": {}
        }
      ]
    },
    {
      "source": [
        "## 8. Who made the last ten pull requests on a given file?\n",
        "<p>Open source projects suffer from fluctuating membership. This makes the problem of finding the right person more challenging: the person has to be knowledgeable <em>and</em> still be involved in the project. A person that contributed a lot in the past might no longer be available (or willing) to help. To get a better understanding, we need to investigate the more recent history of that particular part of the system. </p>\n",
        "<p>Like in the previous task, we will look at the history of  <code>src/compiler/scala/reflect/reify/phases/Calculate.scala</code>.</p>"
      ],
      "metadata": {
        "dc": {
          "key": "54"
        },
        "run_control": {
          "frozen": true
        },
        "tags": [
          "context"
        ],
        "id": "a525e1ba-845e-405d-84c8-17339c97449c"
      },
      "id": "a525e1ba-845e-405d-84c8-17339c97449c",
      "cell_type": "markdown"
    },
    {
      "source": [
        "file = 'src/compiler/scala/reflect/reify/phases/Calculate.scala'\n",
        "\n",
        "# Select the pull requests that changed the target file\n",
        "file_pr = pull_files[pull_files['file'] == file]\n",
        "\n",
        "# Merge the obtained results with the pulls DataFrame\n",
        "joined_pr = pulls.merge(file_pr, on='pid')\n",
        "\n",
        "# Find the users of the last 10 most recent pull requests\n",
        "users_last_10 = set(joined_pr.nlargest(10, 'date')['user'])\n",
        "\n",
        "# Printing the results\n",
        "users_last_10"
      ],
      "metadata": {
        "dc": {
          "key": "54"
        },
        "tags": [
          "sample_code"
        ],
        "trusted": true,
        "id": "7a386134-5541-4275-9eb6-1f518db5ba25",
        "outputId": "1cb9812a-9fdb-4e3d-c612-43eb122c1580"
      },
      "id": "7a386134-5541-4275-9eb6-1f518db5ba25",
      "cell_type": "code",
      "execution_count": null,
      "outputs": [
        {
          "output_type": "execute_result",
          "execution_count": 16,
          "data": {
            "text/plain": "{'bjornregnell', 'retronym', 'soc', 'starblood', 'xeno-by', 'zuvizudar'}"
          },
          "metadata": {}
        }
      ]
    },
    {
      "source": [
        "## 9. The pull requests of two special developers\n",
        "<p>Now that we have identified two potential contacts in the projects, we need to find the person who was most involved in the project in recent times. That person is most likely to answer our questions. For each calendar year, we are interested in understanding the number of pull requests the authors submitted. This will give us a high-level image of their contribution trend to the project.</p>"
      ],
      "metadata": {
        "dc": {
          "key": "61"
        },
        "run_control": {
          "frozen": true
        },
        "tags": [
          "context"
        ],
        "id": "c03c1c5a-5187-49bf-ae4d-15d794f912ea"
      },
      "id": "c03c1c5a-5187-49bf-ae4d-15d794f912ea",
      "cell_type": "markdown"
    },
    {
      "source": [
        "%matplotlib inline\n",
        "\n",
        "# The developers we are interested in\n",
        "authors = ['xeno-by', 'soc']\n",
        "\n",
        "# Get all the developers' pull requests\n",
        "by_author = pulls[pulls['user'].isin(authors)]\n",
        "\n",
        "# Count the number of pull requests submitted each year\n",
        "counts = by_author.groupby([by_author['user'], by_author['date'].dt.year]).agg({'pid': 'count'}).reset_index()\n",
        "\n",
        "# Convert the table to a wide format\n",
        "counts_wide = counts.pivot_table(index='date', columns='user', values='pid', fill_value=0)\n",
        "\n",
        "# Plot the results\n",
        "counts_wide.plot(kind='bar', rot=45)"
      ],
      "metadata": {
        "dc": {
          "key": "61"
        },
        "tags": [
          "sample_code"
        ],
        "trusted": true,
        "id": "326c9c1c-a4bb-48fb-9771-c0615b2dee21",
        "outputId": "dbb883df-940b-4d67-979d-035ad7531fcd"
      },
      "id": "326c9c1c-a4bb-48fb-9771-c0615b2dee21",
      "cell_type": "code",
      "execution_count": null,
      "outputs": [
        {
          "output_type": "execute_result",
          "execution_count": 18,
          "data": {
            "text/plain": "<AxesSubplot:xlabel='date'>"
          },
          "metadata": {}
        },
        {
          "output_type": "display_data",
          "data": {
            "text/plain": "<Figure size 432x288 with 1 Axes>",
            "image/png": "[encoded data removed]"
          },
          "metadata": {
            "needs_background": "light"
          }
        }
      ]
    },
    {
      "source": [
        "## 10. Visualizing the contributions of each developer\n",
        "<p>As mentioned before, it is important to make a distinction between the global expertise and contribution levels and the contribution levels at a more granular level (file, submodule, etc.) In our case, we want to see which of our two developers of interest have the most experience with the code in a given file. We will measure experience by the number of pull requests submitted that affect that file and how recent those pull requests were submitted.</p>"
      ],
      "metadata": {
        "dc": {
          "key": "68"
        },
        "run_control": {
          "frozen": true
        },
        "tags": [
          "context"
        ],
        "id": "35882b31-a0d4-425a-a271-13faeefbc225"
      },
      "id": "35882b31-a0d4-425a-a271-13faeefbc225",
      "cell_type": "markdown"
    },
    {
      "source": [
        "authors = ['xeno-by', 'soc']\n",
        "file = 'src/compiler/scala/reflect/reify/phases/Calculate.scala'\n",
        "\n",
        "# Select the pull requests submitted by the authors, from the `data` DataFrame\n",
        "by_author = data[data['user'].isin(authors)]\n",
        "\n",
        "# Select the pull requests that affect the file\n",
        "by_file = by_author[by_author['file'] == file]\n",
        "\n",
        "# Group and count the number of PRs done by each user each year\n",
        "grouped = by_file.groupby(['user', by_file['date'].dt.year]).count()['pid'].reset_index()\n",
        "\n",
        "# Transform the data into a wide format\n",
        "by_file_wide = grouped.pivot_table(values='pid', index='date', columns='user', fill_value=0)\n",
        "\n",
        "# Plot the results\n",
        "by_file_wide.plot(kind='bar', rot=45)"
      ],
      "metadata": {
        "dc": {
          "key": "68"
        },
        "tags": [
          "sample_code"
        ],
        "trusted": true,
        "id": "f269b1b2-55a5-4134-99e5-410d2d5da64c",
        "outputId": "9ac9c8e0-7878-443c-b9e6-62e8b1a7b378"
      },
      "id": "f269b1b2-55a5-4134-99e5-410d2d5da64c",
      "cell_type": "code",
      "execution_count": null,
      "outputs": [
        {
          "output_type": "execute_result",
          "execution_count": 20,
          "data": {
            "text/plain": "<AxesSubplot:xlabel='date'>"
          },
          "metadata": {}
        },
        {
          "output_type": "display_data",
          "data": {
            "text/plain": "<Figure size 432x288 with 1 Axes>",
            "image/png": "[encoded data removed]"
          },
          "metadata": {
            "needs_background": "light"
          }
        }
      ]
    }
  ],
  "metadata": {
    "kernelspec": {
      "name": "python3",
      "display_name": "Python 3 (ipykernel)",
      "language": "python"
    },
    "language_info": {
      "name": "python",
      "version": "3.8.10",
      "mimetype": "text/x-python",
      "codemirror_mode": {
        "name": "ipython",
        "version": 3
      },
      "pygments_lexer": "ipython3",
      "nbconvert_exporter": "python",
      "file_extension": ".py"
    },
    "editor": "DataCamp Workspace",
    "colab": {
      "provenance": []
    }
  },
  "nbformat": 4,
  "nbformat_minor": 5
}